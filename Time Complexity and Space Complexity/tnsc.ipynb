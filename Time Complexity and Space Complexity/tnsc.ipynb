{
 "cells": [
  {
   "cell_type": "markdown",
   "id": "85a118e1",
   "metadata": {},
   "source": [
    "No body cares if you can code\n",
    "\n",
    "when you learn to code you learn alot of logic building methods\n",
    "if statements and while loops, for loops this that\n",
    "but to achive a said goal, one can use many ways to do so\n"
   ]
  },
  {
   "cell_type": "code",
   "execution_count": 1,
   "id": "e425843e",
   "metadata": {},
   "outputs": [
    {
     "name": "stdout",
     "output_type": "stream",
     "text": [
      "banana\n",
      "banana\n",
      "banana\n",
      "banana\n",
      "banana\n"
     ]
    }
   ],
   "source": [
    "for i in range(0,5):\n",
    "    print(\"banana\")\n"
   ]
  },
  {
   "cell_type": "markdown",
   "id": "504b5696",
   "metadata": {},
   "source": [
    "but there is another way to say banana 5 times"
   ]
  },
  {
   "cell_type": "code",
   "execution_count": 2,
   "id": "18560671",
   "metadata": {},
   "outputs": [
    {
     "name": "stdout",
     "output_type": "stream",
     "text": [
      "banana\n",
      "banana\n",
      "banana\n",
      "banana\n",
      "banana\n"
     ]
    }
   ],
   "source": [
    "i =0\n",
    "while i<5:\n",
    "    print(\"banana\")\n",
    "    i+= 1"
   ]
  },
  {
   "cell_type": "markdown",
   "id": "19bb2656",
   "metadata": {},
   "source": [
    "<h2> Question is? what is better</h2>\n",
    "<h6>we find Time and Space Complexity for that, as low as they are its good for our work</h6>\n",
    "<style>\n",
    "    h2{\n",
    "        width:100%;\n",
    "        display:flex;\n",
    "        color:white;\n",
    "        justify-content:center;\n",
    "    }\n",
    "    h6{\n",
    "        width:100%;\n",
    "        display:flex;\n",
    "        color:white;\n",
    "        justify-content:center;\n",
    "    }\n",
    "</style>"
   ]
  },
  {
   "cell_type": "markdown",
   "id": "9d146f8a",
   "metadata": {},
   "source": [
    "first of all lets not be confused\n",
    "time compelexity isnt time taken to run the code, because code will take diffrent time depending on systems\n",
    "but rather, rate of time taken with respect to increase of inputs"
   ]
  },
  {
   "cell_type": "code",
   "execution_count": 13,
   "id": "fe7d16f4",
   "metadata": {},
   "outputs": [
    {
     "name": "stdout",
     "output_type": "stream",
     "text": [
      "0 True i += 1\n",
      "1 True i += 1\n",
      "2 True i += 1\n",
      "3 True i += 1\n"
     ]
    }
   ],
   "source": [
    "for i in range(0,4):\n",
    "    if i <4:\n",
    "        check = True\n",
    "    else:\n",
    "        check = False\n",
    "\n",
    "    print(i, check, \"i += 1\")\n"
   ]
  },
  {
   "cell_type": "markdown",
   "id": "61512411",
   "metadata": {},
   "source": [
    "There are, after each iteration 3 operation happens,\n",
    "Asigning value to i, comparasion, changing i (i+=1)\n",
    "\n",
    "if i increase the value of range, the code will take more time,\n",
    "for range being 0 to n, there will be 3n operations"
   ]
  },
  {
   "cell_type": "code",
   "execution_count": null,
   "id": "4ae0acd1",
   "metadata": {},
   "outputs": [
    {
     "name": "stdout",
     "output_type": "stream",
     "text": [
      "0 0 True i += 1\n",
      "0 1 True i += 1\n",
      "0 2 True i += 1\n",
      "0 3 True i += 1\n",
      "1 0 True i += 1\n",
      "1 1 True i += 1\n",
      "1 2 True i += 1\n",
      "1 3 True i += 1\n",
      "2 0 True i += 1\n",
      "2 1 True i += 1\n",
      "2 2 True i += 1\n",
      "2 3 True i += 1\n",
      "3 0 True i += 1\n",
      "3 1 True i += 1\n",
      "3 2 True i += 1\n",
      "3 3 True i += 1\n"
     ]
    }
   ],
   "source": [
    "for i in range(0,4):\n",
    "    for j in range(0,4):   \n",
    "        if i <4 and j<4:\n",
    "            check = True\n",
    "        else:\n",
    "            check = False\n",
    "\n",
    "        print(i,j, check, \"i += 1\")"
   ]
  },
  {
   "cell_type": "markdown",
   "id": "e9885254",
   "metadata": {},
   "source": [
    "now if we increase the range of both loops to n, the time complexity increases by 4n<sup>2</sup>"
   ]
  },
  {
   "cell_type": "markdown",
   "id": "43558710",
   "metadata": {},
   "source": [
    "but what exactly is an operation, its a grey area, and do not matter, for practical purposes\n",
    "we use these steps to calculate\n",
    "1. Always calculate wrt the worst case\n",
    "2. Avoid constant values\n",
    "3. Avoid lower bound"
   ]
  },
  {
   "cell_type": "code",
   "execution_count": 6,
   "id": "d47782fa",
   "metadata": {},
   "outputs": [
    {
     "data": {
      "text/plain": [
       "'baby'"
      ]
     },
     "execution_count": 6,
     "metadata": {},
     "output_type": "execute_result"
    }
   ],
   "source": [
    "def tell_state(age):\n",
    "    if age >= 80:\n",
    "        return \"super senior\"\n",
    "    elif age >= 60 and age < 80:\n",
    "        return \"senior\"\n",
    "    elif age>= 14 and age < 60:\n",
    "        return \"meow\"\n",
    "    else:\n",
    "        return \"baby\"\n",
    "    \n",
    "tell_state(90) \n",
    "#it is best case because code was complete in one operaton\n",
    "tell_state(3)\n",
    "#it is worst case because it will check for every  condition"
   ]
  },
  {
   "cell_type": "markdown",
   "id": "dc80498a",
   "metadata": {},
   "source": [
    "if our code runs best on worst case, it will run best on every case"
   ]
  },
  {
   "cell_type": "markdown",
   "id": "f6e8cfe6",
   "metadata": {},
   "source": [
    "<h1>Big Oh</h1>"
   ]
  },
  {
   "cell_type": "markdown",
   "id": "5d1567ad",
   "metadata": {},
   "source": [
    "Say if we try"
   ]
  },
  {
   "cell_type": "code",
   "execution_count": null,
   "id": "409aa667",
   "metadata": {},
   "outputs": [],
   "source": []
  },
  {
   "cell_type": "code",
   "execution_count": null,
   "id": "853d3f74",
   "metadata": {},
   "outputs": [],
   "source": []
  },
  {
   "cell_type": "code",
   "execution_count": null,
   "id": "3441d730",
   "metadata": {},
   "outputs": [],
   "source": []
  },
  {
   "cell_type": "markdown",
   "id": "0f794989",
   "metadata": {},
   "source": []
  },
  {
   "cell_type": "code",
   "execution_count": null,
   "id": "4a7414f6",
   "metadata": {},
   "outputs": [],
   "source": []
  }
 ],
 "metadata": {
  "kernelspec": {
   "display_name": "base",
   "language": "python",
   "name": "python3"
  },
  "language_info": {
   "codemirror_mode": {
    "name": "ipython",
    "version": 3
   },
   "file_extension": ".py",
   "mimetype": "text/x-python",
   "name": "python",
   "nbconvert_exporter": "python",
   "pygments_lexer": "ipython3",
   "version": "3.12.7"
  }
 },
 "nbformat": 4,
 "nbformat_minor": 5
}
