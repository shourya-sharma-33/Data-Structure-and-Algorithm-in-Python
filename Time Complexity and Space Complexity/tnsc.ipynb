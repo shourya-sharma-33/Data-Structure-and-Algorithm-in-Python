{
 "cells": [
  {
   "cell_type": "markdown",
   "id": "85a118e1",
   "metadata": {},
   "source": [
    "No body cares if <p class=\"highlight\">you can code</p>\n",
    "\n",
    "when you learn to code you learn alot of logic building methods\n",
    "if statements and while loops, for loops this that\n",
    "but to achive <p class=\"highlight\">a said goal</p> .one can use many ways to do so\n",
    "\n",
    "<style>\n",
    "    .highlight{\n",
    "        color:blue\n",
    "    }\n",
    "</style>"
   ]
  },
  {
   "cell_type": "code",
   "execution_count": 1,
   "id": "e425843e",
   "metadata": {},
   "outputs": [
    {
     "name": "stdout",
     "output_type": "stream",
     "text": [
      "banana\n",
      "banana\n",
      "banana\n",
      "banana\n",
      "banana\n"
     ]
    }
   ],
   "source": [
    "for i in range(0,5):\n",
    "    print(\"banana\")\n"
   ]
  },
  {
   "cell_type": "markdown",
   "id": "504b5696",
   "metadata": {},
   "source": [
    "but there is another way to say banana 5 times"
   ]
  },
  {
   "cell_type": "code",
   "execution_count": 2,
   "id": "18560671",
   "metadata": {},
   "outputs": [
    {
     "name": "stdout",
     "output_type": "stream",
     "text": [
      "banana\n",
      "banana\n",
      "banana\n",
      "banana\n",
      "banana\n"
     ]
    }
   ],
   "source": [
    "i =0\n",
    "while i<5:\n",
    "    print(\"banana\")\n",
    "    i+= 1"
   ]
  },
  {
   "cell_type": "markdown",
   "id": "19bb2656",
   "metadata": {},
   "source": [
    "<h2> Question is? what is better</h2>\n",
    "<style>\n",
    "    h2{\n",
    "        width:100%;\n",
    "        display:flex;\n",
    "        color:white;\n",
    "        justify-content:center;\n",
    "    }\n",
    "</style>"
   ]
  },
  {
   "cell_type": "code",
   "execution_count": null,
   "id": "4a7414f6",
   "metadata": {},
   "outputs": [],
   "source": []
  }
 ],
 "metadata": {
  "kernelspec": {
   "display_name": "base",
   "language": "python",
   "name": "python3"
  },
  "language_info": {
   "codemirror_mode": {
    "name": "ipython",
    "version": 3
   },
   "file_extension": ".py",
   "mimetype": "text/x-python",
   "name": "python",
   "nbconvert_exporter": "python",
   "pygments_lexer": "ipython3",
   "version": "3.12.7"
  }
 },
 "nbformat": 4,
 "nbformat_minor": 5
}
